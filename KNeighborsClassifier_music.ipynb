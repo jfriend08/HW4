{
 "cells": [
  {
   "cell_type": "code",
   "execution_count": 1,
   "metadata": {
    "collapsed": false
   },
   "outputs": [
    {
     "name": "stderr",
     "output_type": "stream",
     "text": [
      "/Users/apple/anaconda/lib/python2.7/site-packages/librosa/core/audio.py:37: UserWarning: Could not import scikits.samplerate. Falling back to scipy.signal\n",
      "  warnings.warn('Could not import scikits.samplerate. '\n"
     ]
    }
   ],
   "source": [
    "%matplotlib inline\n",
    "from sklearn.datasets import load_iris\n",
    "from  scipy.spatial.distance import euclidean\n",
    "from sklearn.preprocessing import StandardScaler\n",
    "from sklearn.decomposition import PCA\n",
    "import numpy as np\n",
    "import random, sys\n",
    "import matplotlib.pyplot as plt\n",
    "from scipy import ndimage\n",
    "import cPickle as pickle\n",
    "import scipy.io.wavfile as wav\n",
    "from pylab import plt\n",
    "from scipy.signal import butter, lfilter, freqz\n",
    "from sklearn.cross_validation import train_test_split\n",
    "from librosa.util import normalize\n",
    "import kmeans as km\n",
    "import learnvocabulary as lv"
   ]
  },
  {
   "cell_type": "markdown",
   "metadata": {},
   "source": []
  },
  {
   "cell_type": "markdown",
   "metadata": {},
   "source": [
    "# Run kmean++ on Music data\n",
    "* Import Data\n",
    "* Use function learnvocabulary to get the centroids, representing the words\n",
    "* Use function getbof to vectorize the counts per song\n"
   ]
  },
  {
   "cell_type": "code",
   "execution_count": 2,
   "metadata": {
    "collapsed": false,
    "scrolled": true
   },
   "outputs": [
    {
     "name": "stdout",
     "output_type": "stream",
     "text": [
      "X size/number of songs: 40\n",
      "Number of clips per song: 10\n",
      "y size: 40\n",
      "----- Running kmeans++ -----\n",
      "After MFCC X.shape (30, 10, 12, 130)\n",
      "X_train_flattened.shape (300, 12, 130)\n",
      "After transpose X_train_flattened.shape (300, 130, 12)\n"
     ]
    },
    {
     "data": {
      "image/png": "[encoded data removed]",
      "text/plain": [
       "<matplotlib.figure.Figure at 0x103dfb050>"
      ]
     },
     "metadata": {},
     "output_type": "display_data"
    },
    {
     "name": "stdout",
     "output_type": "stream",
     "text": [
      "X_train_flattened_norm_final.shape (39000, 12)\n",
      "Start kmeans\n"
     ]
    },
    {
     "ename": "KeyboardInterrupt",
     "evalue": "",
     "output_type": "error",
     "traceback": [
      "\u001b[0;31m---------------------------------------------------------------------------\u001b[0m",
      "\u001b[0;31mKeyboardInterrupt\u001b[0m                         Traceback (most recent call last)",
      "\u001b[0;32m<ipython-input-2-556f957b8e75>\u001b[0m in \u001b[0;36m<module>\u001b[0;34m()\u001b[0m\n\u001b[1;32m      2\u001b[0m \u001b[0mX_train\u001b[0m\u001b[0;34m,\u001b[0m \u001b[0mX_test\u001b[0m\u001b[0;34m,\u001b[0m \u001b[0my_train\u001b[0m\u001b[0;34m,\u001b[0m \u001b[0my_test\u001b[0m \u001b[0;34m=\u001b[0m \u001b[0mtrain_test_split\u001b[0m\u001b[0;34m(\u001b[0m\u001b[0mX\u001b[0m\u001b[0;34m,\u001b[0m \u001b[0my\u001b[0m\u001b[0;34m,\u001b[0m \u001b[0mtest_size\u001b[0m\u001b[0;34m=\u001b[0m\u001b[0;36m0.25\u001b[0m\u001b[0;34m,\u001b[0m \u001b[0mrandom_state\u001b[0m\u001b[0;34m=\u001b[0m\u001b[0;36m2010\u001b[0m\u001b[0;34m)\u001b[0m\u001b[0;34m\u001b[0m\u001b[0m\n\u001b[1;32m      3\u001b[0m \u001b[0;32mprint\u001b[0m \u001b[0;34m'-----'\u001b[0m\u001b[0;34m,\u001b[0m \u001b[0;34m'Running kmeans++'\u001b[0m\u001b[0;34m,\u001b[0m \u001b[0;34m'-----'\u001b[0m\u001b[0;34m\u001b[0m\u001b[0m\n\u001b[0;32m----> 4\u001b[0;31m \u001b[0mcentroids\u001b[0m \u001b[0;34m=\u001b[0m \u001b[0mlv\u001b[0m\u001b[0;34m.\u001b[0m\u001b[0mlearnvocabulary\u001b[0m\u001b[0;34m(\u001b[0m\u001b[0mX_train\u001b[0m\u001b[0;34m,\u001b[0m \u001b[0;36m20\u001b[0m\u001b[0;34m,\u001b[0m \u001b[0;34m\"kpp\"\u001b[0m\u001b[0;34m,\u001b[0m \u001b[0;36m100\u001b[0m\u001b[0;34m,\u001b[0m \u001b[0mTrue\u001b[0m\u001b[0;34m)\u001b[0m \u001b[0;31m#X, k, clusterMethod, Iter, transpose\u001b[0m\u001b[0;34m\u001b[0m\u001b[0m\n\u001b[0m\u001b[1;32m      5\u001b[0m \u001b[0;32mprint\u001b[0m \u001b[0;34m'Number of centroids:'\u001b[0m\u001b[0;34m,\u001b[0m \u001b[0mlen\u001b[0m\u001b[0;34m(\u001b[0m\u001b[0mcentroids\u001b[0m\u001b[0;34m)\u001b[0m\u001b[0;34m\u001b[0m\u001b[0m\n\u001b[1;32m      6\u001b[0m \u001b[0;34m\u001b[0m\u001b[0m\n",
      "\u001b[0;32m/Volumes/HHD/Users/yun-shaosung/HDD_Doc/NYU/compuML/homework2/learnvocabulary.py\u001b[0m in \u001b[0;36mlearnvocabulary\u001b[0;34m(X, k, method, Iter, transpose)\u001b[0m\n\u001b[1;32m     66\u001b[0m     \u001b[0mkmeans\u001b[0m \u001b[0;34m=\u001b[0m \u001b[0mkm\u001b[0m\u001b[0;34m.\u001b[0m\u001b[0mmykmeans_multi\u001b[0m\u001b[0;34m(\u001b[0m\u001b[0mk\u001b[0m\u001b[0;34m,\u001b[0m \u001b[0mIter\u001b[0m\u001b[0;34m)\u001b[0m \u001b[0;31m#numCluster, numIter\u001b[0m\u001b[0;34m\u001b[0m\u001b[0m\n\u001b[1;32m     67\u001b[0m   \u001b[0;32melse\u001b[0m\u001b[0;34m:\u001b[0m\u001b[0;34m\u001b[0m\u001b[0m\n\u001b[0;32m---> 68\u001b[0;31m     \u001b[0;32mprint\u001b[0m \u001b[0;34m\"no such method\"\u001b[0m\u001b[0;34m\u001b[0m\u001b[0m\n\u001b[0m\u001b[1;32m     69\u001b[0m   \u001b[0mkmeans\u001b[0m\u001b[0;34m.\u001b[0m\u001b[0mmykmeans\u001b[0m\u001b[0;34m(\u001b[0m\u001b[0mX_train_flattened_norm_final\u001b[0m\u001b[0;34m)\u001b[0m\u001b[0;34m\u001b[0m\u001b[0m\n\u001b[1;32m     70\u001b[0m   \u001b[0mcentroids\u001b[0m \u001b[0;34m=\u001b[0m \u001b[0mkmeans\u001b[0m\u001b[0;34m.\u001b[0m\u001b[0mgetBestCentroids\u001b[0m\u001b[0;34m(\u001b[0m\u001b[0;34m)\u001b[0m\u001b[0;34m\u001b[0m\u001b[0m\n",
      "\u001b[0;32m/Volumes/HHD/Users/yun-shaosung/HDD_Doc/NYU/compuML/homework2/kmeans.pyc\u001b[0m in \u001b[0;36mmykmeans\u001b[0;34m(self, points)\u001b[0m\n\u001b[1;32m    148\u001b[0m         \u001b[0mmin_groupIdx\u001b[0m \u001b[0;34m=\u001b[0m \u001b[0;34m-\u001b[0m\u001b[0;36m1\u001b[0m\u001b[0;34m\u001b[0m\u001b[0m\n\u001b[1;32m    149\u001b[0m         \u001b[0;32mfor\u001b[0m \u001b[0mcenter_idx\u001b[0m \u001b[0;32min\u001b[0m \u001b[0mxrange\u001b[0m\u001b[0;34m(\u001b[0m\u001b[0mlen\u001b[0m\u001b[0;34m(\u001b[0m\u001b[0mcenters\u001b[0m\u001b[0;34m)\u001b[0m\u001b[0;34m)\u001b[0m\u001b[0;34m:\u001b[0m\u001b[0;34m\u001b[0m\u001b[0m\n\u001b[0;32m--> 150\u001b[0;31m           \u001b[0mdist\u001b[0m \u001b[0;34m=\u001b[0m \u001b[0meuclidean\u001b[0m\u001b[0;34m(\u001b[0m\u001b[0mpoints\u001b[0m\u001b[0;34m[\u001b[0m\u001b[0mpoint_idx\u001b[0m\u001b[0;34m]\u001b[0m\u001b[0;34m,\u001b[0m \u001b[0mcenters\u001b[0m\u001b[0;34m[\u001b[0m\u001b[0mcenter_idx\u001b[0m\u001b[0;34m]\u001b[0m\u001b[0;34m)\u001b[0m\u001b[0;34m\u001b[0m\u001b[0m\n\u001b[0m\u001b[1;32m    151\u001b[0m           \u001b[0;32mif\u001b[0m \u001b[0mdist\u001b[0m \u001b[0;34m<\u001b[0m \u001b[0mmin_dis\u001b[0m\u001b[0;34m:\u001b[0m\u001b[0;34m\u001b[0m\u001b[0m\n\u001b[1;32m    152\u001b[0m             \u001b[0mmin_dis\u001b[0m \u001b[0;34m=\u001b[0m \u001b[0mdist\u001b[0m\u001b[0;34m\u001b[0m\u001b[0m\n",
      "\u001b[0;32m/Users/apple/anaconda/lib/python2.7/site-packages/scipy/spatial/distance.pyc\u001b[0m in \u001b[0;36meuclidean\u001b[0;34m(u, v)\u001b[0m\n\u001b[1;32m    222\u001b[0m     \u001b[0mu\u001b[0m \u001b[0;34m=\u001b[0m \u001b[0m_validate_vector\u001b[0m\u001b[0;34m(\u001b[0m\u001b[0mu\u001b[0m\u001b[0;34m)\u001b[0m\u001b[0;34m\u001b[0m\u001b[0m\n\u001b[1;32m    223\u001b[0m     \u001b[0mv\u001b[0m \u001b[0;34m=\u001b[0m \u001b[0m_validate_vector\u001b[0m\u001b[0;34m(\u001b[0m\u001b[0mv\u001b[0m\u001b[0;34m)\u001b[0m\u001b[0;34m\u001b[0m\u001b[0m\n\u001b[0;32m--> 224\u001b[0;31m     \u001b[0mdist\u001b[0m \u001b[0;34m=\u001b[0m \u001b[0mnorm\u001b[0m\u001b[0;34m(\u001b[0m\u001b[0mu\u001b[0m \u001b[0;34m-\u001b[0m \u001b[0mv\u001b[0m\u001b[0;34m)\u001b[0m\u001b[0;34m\u001b[0m\u001b[0m\n\u001b[0m\u001b[1;32m    225\u001b[0m     \u001b[0;32mreturn\u001b[0m \u001b[0mdist\u001b[0m\u001b[0;34m\u001b[0m\u001b[0m\n\u001b[1;32m    226\u001b[0m \u001b[0;34m\u001b[0m\u001b[0m\n",
      "\u001b[0;32m/Users/apple/anaconda/lib/python2.7/site-packages/scipy/linalg/misc.pyc\u001b[0m in \u001b[0;36mnorm\u001b[0;34m(a, ord)\u001b[0m\n\u001b[1;32m    115\u001b[0m     \u001b[0;31m# Differs from numpy only in non-finite handling and the use of\u001b[0m\u001b[0;34m\u001b[0m\u001b[0;34m\u001b[0m\u001b[0m\n\u001b[1;32m    116\u001b[0m     \u001b[0;31m# blas\u001b[0m\u001b[0;34m\u001b[0m\u001b[0;34m\u001b[0m\u001b[0m\n\u001b[0;32m--> 117\u001b[0;31m     \u001b[0ma\u001b[0m \u001b[0;34m=\u001b[0m \u001b[0mnp\u001b[0m\u001b[0;34m.\u001b[0m\u001b[0masarray_chkfinite\u001b[0m\u001b[0;34m(\u001b[0m\u001b[0ma\u001b[0m\u001b[0;34m)\u001b[0m\u001b[0;34m\u001b[0m\u001b[0m\n\u001b[0m\u001b[1;32m    118\u001b[0m     \u001b[0;32mif\u001b[0m \u001b[0mord\u001b[0m \u001b[0;32min\u001b[0m \u001b[0;34m(\u001b[0m\u001b[0mNone\u001b[0m\u001b[0;34m,\u001b[0m \u001b[0;36m2\u001b[0m\u001b[0;34m)\u001b[0m \u001b[0;32mand\u001b[0m \u001b[0;34m(\u001b[0m\u001b[0ma\u001b[0m\u001b[0;34m.\u001b[0m\u001b[0mndim\u001b[0m \u001b[0;34m==\u001b[0m \u001b[0;36m1\u001b[0m\u001b[0;34m)\u001b[0m \u001b[0;32mand\u001b[0m \u001b[0;34m(\u001b[0m\u001b[0ma\u001b[0m\u001b[0;34m.\u001b[0m\u001b[0mdtype\u001b[0m\u001b[0;34m.\u001b[0m\u001b[0mchar\u001b[0m \u001b[0;32min\u001b[0m \u001b[0;34m'fdFD'\u001b[0m\u001b[0;34m)\u001b[0m\u001b[0;34m:\u001b[0m\u001b[0;34m\u001b[0m\u001b[0m\n\u001b[1;32m    119\u001b[0m         \u001b[0;31m# use blas for fast and stable euclidean norm\u001b[0m\u001b[0;34m\u001b[0m\u001b[0;34m\u001b[0m\u001b[0m\n",
      "\u001b[0;32m/Users/apple/anaconda/lib/python2.7/site-packages/numpy/lib/function_base.pyc\u001b[0m in \u001b[0;36masarray_chkfinite\u001b[0;34m(a, dtype, order)\u001b[0m\n\u001b[1;32m    609\u001b[0m     \"\"\"\n\u001b[1;32m    610\u001b[0m     \u001b[0ma\u001b[0m \u001b[0;34m=\u001b[0m \u001b[0masarray\u001b[0m\u001b[0;34m(\u001b[0m\u001b[0ma\u001b[0m\u001b[0;34m,\u001b[0m \u001b[0mdtype\u001b[0m\u001b[0;34m=\u001b[0m\u001b[0mdtype\u001b[0m\u001b[0;34m,\u001b[0m \u001b[0morder\u001b[0m\u001b[0;34m=\u001b[0m\u001b[0morder\u001b[0m\u001b[0;34m)\u001b[0m\u001b[0;34m\u001b[0m\u001b[0m\n\u001b[0;32m--> 611\u001b[0;31m     \u001b[0;32mif\u001b[0m \u001b[0ma\u001b[0m\u001b[0;34m.\u001b[0m\u001b[0mdtype\u001b[0m\u001b[0;34m.\u001b[0m\u001b[0mchar\u001b[0m \u001b[0;32min\u001b[0m \u001b[0mtypecodes\u001b[0m\u001b[0;34m[\u001b[0m\u001b[0;34m'AllFloat'\u001b[0m\u001b[0;34m]\u001b[0m \u001b[0;32mand\u001b[0m \u001b[0;32mnot\u001b[0m \u001b[0mnp\u001b[0m\u001b[0;34m.\u001b[0m\u001b[0misfinite\u001b[0m\u001b[0;34m(\u001b[0m\u001b[0ma\u001b[0m\u001b[0;34m)\u001b[0m\u001b[0;34m.\u001b[0m\u001b[0mall\u001b[0m\u001b[0;34m(\u001b[0m\u001b[0;34m)\u001b[0m\u001b[0;34m:\u001b[0m\u001b[0;34m\u001b[0m\u001b[0m\n\u001b[0m\u001b[1;32m    612\u001b[0m         raise ValueError(\n\u001b[1;32m    613\u001b[0m             \"array must not contain infs or NaNs\")\n",
      "\u001b[0;31mKeyboardInterrupt\u001b[0m: "
     ]
    }
   ],
   "source": [
    "X, y = lv.getData()\n",
    "X_train, X_test, y_train, y_test = train_test_split(X, y, test_size=0.25, random_state=2010)\n",
    "print '-----', 'Running kmeans++', '-----'\n",
    "centroids = lv.learnvocabulary(X_train, 20, \"kpp\", 100, True) #X, k, clusterMethod, Iter, transpose\n",
    "print 'Number of centroids:', len(centroids)\n",
    "\n",
    "# print '-----', 'Running kmeans_multi', '-----'\n",
    "# cen_t = lv.learnvocabulary(X_train, 20, \"multi\", 100, True)\n",
    "# print 'Number of centroids:', len(cen_t)\n"
   ]
  },
  {
   "cell_type": "markdown",
   "metadata": {},
   "source": [
    "# Feed to TF-idf\n",
    "* Used new training data to vectorize BOF from previously computed centroids\n",
    "* Import X_train_bofCounts into tfidf_transformer"
   ]
  },
  {
   "cell_type": "code",
   "execution_count": 3,
   "metadata": {
    "collapsed": false
   },
   "outputs": [
    {
     "name": "stdout",
     "output_type": "stream",
     "text": [
      "getbof X.shape (300, 12, 130)\n",
      "X_train_tfidf.shape (300, 20)\n",
      "y_train.shape (30,)\n"
     ]
    }
   ],
   "source": [
    "from sklearn.feature_extraction.text import TfidfTransformer\n",
    "# X_train, y_train = lv.getData()\n",
    "X_train_bofCounts, y_train_bofCounts = lv.getbof(X_train, y_train, centroids)\n",
    "tfidf_transformer = TfidfTransformer()\n",
    "X_train_tfidf = tfidf_transformer.fit_transform(X_train_bofCounts)\n",
    "print \"X_train_tfidf.shape\", X_train_tfidf.shape\n",
    "y_train = np.array(y_train)\n",
    "print \"y_train.shape\", y_train.shape"
   ]
  },
  {
   "cell_type": "markdown",
   "metadata": {},
   "source": [
    "# Train classifier\n",
    "* Use KNeighborsClassifier as our classifier"
   ]
  },
  {
   "cell_type": "code",
   "execution_count": 6,
   "metadata": {
    "collapsed": false
   },
   "outputs": [
    {
     "name": "stdout",
     "output_type": "stream",
     "text": [
      "Fitting 3 folds for each of 56 candidates, totalling 168 fits\n",
      "[CV] n_neighbors=3, weights=uniform, algorithm=auto ..................\n",
      "[CV]  n_neighbors=3, weights=uniform, algorithm=auto, score=0.250000 -   0.0s\n",
      "[CV] n_neighbors=3, weights=uniform, algorithm=auto ..................\n",
      "[CV]  n_neighbors=3, weights=uniform, algorithm=auto, score=0.222222 -   0.0s\n",
      "[CV] n_neighbors=3, weights=uniform, algorithm=auto ..................\n",
      "[CV]  n_neighbors=3, weights=uniform, algorithm=auto, score=0.237113 -   0.0s\n",
      "[CV] n_neighbors=3, weights=distance, algorithm=auto .................\n",
      "[CV]  n_neighbors=3, weights=distance, algorithm=auto, score=0.269231 -   0.0s\n",
      "[CV] n_neighbors=3, weights=distance, algorithm=auto .................\n",
      "[CV]  n_neighbors=3, weights=distance, algorithm=auto, score=0.212121 -   0.0s\n",
      "[CV] n_neighbors=3, weights=distance, algorithm=auto .................\n",
      "[CV]  n_neighbors=3, weights=distance, algorithm=auto, score=0.247423 -   0.0s\n",
      "[CV] n_neighbors=4, weights=uniform, algorithm=auto ..................\n",
      "[CV]  n_neighbors=4, weights=uniform, algorithm=auto, score=0.278846 -   0.0s\n",
      "[CV] n_neighbors=4, weights=uniform, algorithm=auto ..................\n",
      "[CV]  n_neighbors=4, weights=uniform, algorithm=auto, score=0.303030 -   0.0s\n",
      "[CV] n_neighbors=4, weights=uniform, algorithm=auto ..................\n",
      "[CV]  n_neighbors=4, weights=uniform, algorithm=auto, score=0.268041 -   0.0s\n",
      "[CV] n_neighbors=4, weights=distance, algorithm=auto .................\n",
      "[CV]  n_neighbors=4, weights=distance, algorithm=auto, score=0.317308 -   0.0s\n",
      "[CV] n_neighbors=4, weights=distance, algorithm=auto .................\n",
      "[CV]  n_neighbors=4, weights=distance, algorithm=auto, score=0.303030 -   0.0s\n",
      "[CV] n_neighbors=4, weights=distance, algorithm=auto .................\n",
      "[CV]  n_neighbors=4, weights=distance, algorithm=auto, score=0.278351 -   0.0s\n",
      "[CV] n_neighbors=5, weights=uniform, algorithm=auto ..................\n",
      "[CV]  n_neighbors=5, weights=uniform, algorithm=auto, score=0.278846 -   0.0s\n",
      "[CV] n_neighbors=5, weights=uniform, algorithm=auto ..................\n",
      "[CV]  n_neighbors=5, weights=uniform, algorithm=auto, score=0.303030 -   0.0s\n",
      "[CV] n_neighbors=5, weights=uniform, algorithm=auto ..................\n",
      "[CV]  n_neighbors=5, weights=uniform, algorithm=auto, score=0.237113 -   0.0s\n",
      "[CV] n_neighbors=5, weights=distance, algorithm=auto .................\n",
      "[CV]  n_neighbors=5, weights=distance, algorithm=auto, score=0.336538 -   0.0s\n",
      "[CV] n_neighbors=5, weights=distance, algorithm=auto .................\n",
      "[CV]  n_neighbors=5, weights=distance, algorithm=auto, score=0.303030 -   0.0s\n",
      "[CV] n_neighbors=5, weights=distance, algorithm=auto .................\n",
      "[CV]  n_neighbors=5, weights=distance, algorithm=auto, score=0.268041 -   0.0s\n",
      "[CV] n_neighbors=6, weights=uniform, algorithm=auto ..................\n",
      "[CV]  n_neighbors=6, weights=uniform, algorithm=auto, score=0.298077 -   0.0s\n",
      "[CV] n_neighbors=6, weights=uniform, algorithm=auto ..................\n",
      "[CV]  n_neighbors=6, weights=uniform, algorithm=auto, score=0.303030 -   0.0s\n",
      "[CV] n_neighbors=6, weights=uniform, algorithm=auto ..................\n",
      "[CV]  n_neighbors=6, weights=uniform, algorithm=auto, score=0.237113 -   0.0s\n",
      "[CV] n_neighbors=6, weights=distance, algorithm=auto .................\n",
      "[CV]  n_neighbors=6, weights=distance, algorithm=auto, score=0.355769 -   0.0s\n",
      "[CV] n_neighbors=6, weights=distance, algorithm=auto .................\n",
      "[CV]  n_neighbors=6, weights=distance, algorithm=auto, score=0.292929 -   0.0s\n",
      "[CV] n_neighbors=6, weights=distance, algorithm=auto .................\n",
      "[CV]  n_neighbors=6, weights=distance, algorithm=auto, score=0.268041 -   0.0s\n",
      "[CV] n_neighbors=7, weights=uniform, algorithm=auto ..................\n",
      "[CV]  n_neighbors=7, weights=uniform, algorithm=auto, score=0.317308 -   0.0s\n",
      "[CV] n_neighbors=7, weights=uniform, algorithm=auto ..................\n",
      "[CV]  n_neighbors=7, weights=uniform, algorithm=auto, score=0.313131 -   0.0s\n",
      "[CV] n_neighbors=7, weights=uniform, algorithm=auto ..................\n",
      "[CV]  n_neighbors=7, weights=uniform, algorithm=auto, score=0.257732 -   0.0s\n",
      "[CV] n_neighbors=7, weights=distance, algorithm=auto .................\n",
      "[CV]  n_neighbors=7, weights=distance, algorithm=auto, score=0.355769 -   0.0s\n",
      "[CV] n_neighbors=7, weights=distance, algorithm=auto .................\n",
      "[CV]  n_neighbors=7, weights=distance, algorithm=auto, score=0.282828 -   0.0s\n",
      "[CV] n_neighbors=7, weights=distance, algorithm=auto .................\n",
      "[CV]  n_neighbors=7, weights=distance, algorithm=auto, score=0.268041 -   0.0s\n",
      "[CV] n_neighbors=8, weights=uniform, algorithm=auto ..................\n",
      "[CV]  n_neighbors=8, weights=uniform, algorithm=auto, score=0.307692 -   0.0s\n",
      "[CV] n_neighbors=8, weights=uniform, algorithm=auto ..................\n",
      "[CV]  n_neighbors=8, weights=uniform, algorithm=auto, score=0.282828 -   0.0s\n",
      "[CV] n_neighbors=8, weights=uniform, algorithm=auto ..................\n",
      "[CV]  n_neighbors=8, weights=uniform, algorithm=auto, score=0.226804 -   0.0s\n",
      "[CV] n_neighbors=8, weights=distance, algorithm=auto .................\n",
      "[CV]  n_neighbors=8, weights=distance, algorithm=auto, score=0.355769 -   0.0s\n",
      "[CV] n_neighbors=8, weights=distance, algorithm=auto .................\n",
      "[CV]  n_neighbors=8, weights=distance, algorithm=auto, score=0.282828 -   0.0s\n",
      "[CV] n_neighbors=8, weights=distance, algorithm=auto .................\n",
      "[CV]  n_neighbors=8, weights=distance, algorithm=auto, score=0.268041 -   0.0s\n",
      "[CV] n_neighbors=9, weights=uniform, algorithm=auto ..................\n",
      "[CV]  n_neighbors=9, weights=uniform, algorithm=auto, score=0.259615 -   0.0s\n",
      "[CV] n_neighbors=9, weights=uniform, algorithm=auto ..................\n",
      "[CV]  n_neighbors=9, weights=uniform, algorithm=auto, score=0.191919 -   0.0s\n",
      "[CV] n_neighbors=9, weights=uniform, algorithm=auto ..................\n",
      "[CV]  n_neighbors=9, weights=uniform, algorithm=auto, score=0.226804 -   0.0s\n",
      "[CV] n_neighbors=9, weights=distance, algorithm=auto .................\n",
      "[CV]  n_neighbors=9, weights=distance, algorithm=auto, score=0.317308 -   0.0s"
     ]
    },
    {
     "name": "stderr",
     "output_type": "stream",
     "text": [
      "[Parallel(n_jobs=1)]: Done  31 tasks       | elapsed:    0.2s\n",
      "/Users/apple/anaconda/lib/python2.7/site-packages/sklearn/neighbors/base.py:229: UserWarning: cannot use tree with sparse input: using brute force\n",
      "  warnings.warn(\"cannot use tree with sparse input: \"\n"
     ]
    },
    {
     "name": "stdout",
     "output_type": "stream",
     "text": [
      "\n",
      "[CV] n_neighbors=9, weights=distance, algorithm=auto .................\n",
      "[CV]  n_neighbors=9, weights=distance, algorithm=auto, score=0.181818 -   0.0s\n",
      "[CV] n_neighbors=9, weights=distance, algorithm=auto .................\n",
      "[CV]  n_neighbors=9, weights=distance, algorithm=auto, score=0.278351 -   0.0s\n",
      "[CV] n_neighbors=3, weights=uniform, algorithm=ball_tree .............\n",
      "[CV]  n_neighbors=3, weights=uniform, algorithm=ball_tree, score=0.250000 -   0.0s\n",
      "[CV] n_neighbors=3, weights=uniform, algorithm=ball_tree .............\n",
      "[CV]  n_neighbors=3, weights=uniform, algorithm=ball_tree, score=0.222222 -   0.0s\n",
      "[CV] n_neighbors=3, weights=uniform, algorithm=ball_tree .............\n",
      "[CV]  n_neighbors=3, weights=uniform, algorithm=ball_tree, score=0.237113 -   0.0s\n",
      "[CV] n_neighbors=3, weights=distance, algorithm=ball_tree ............\n",
      "[CV]  n_neighbors=3, weights=distance, algorithm=ball_tree, score=0.269231 -   0.0s\n",
      "[CV] n_neighbors=3, weights=distance, algorithm=ball_tree ............\n",
      "[CV]  n_neighbors=3, weights=distance, algorithm=ball_tree, score=0.212121 -   0.0s\n",
      "[CV] n_neighbors=3, weights=distance, algorithm=ball_tree ............\n",
      "[CV]  n_neighbors=3, weights=distance, algorithm=ball_tree, score=0.247423 -   0.0s\n",
      "[CV] n_neighbors=4, weights=uniform, algorithm=ball_tree .............\n",
      "[CV]  n_neighbors=4, weights=uniform, algorithm=ball_tree, score=0.278846 -   0.0s\n",
      "[CV] n_neighbors=4, weights=uniform, algorithm=ball_tree .............\n",
      "[CV]  n_neighbors=4, weights=uniform, algorithm=ball_tree, score=0.303030 -   0.0s\n",
      "[CV] n_neighbors=4, weights=uniform, algorithm=ball_tree .............\n",
      "[CV]  n_neighbors=4, weights=uniform, algorithm=ball_tree, score=0.268041 -   0.0s\n",
      "[CV] n_neighbors=4, weights=distance, algorithm=ball_tree ............\n",
      "[CV]  n_neighbors=4, weights=distance, algorithm=ball_tree, score=0.317308 -   0.0s\n",
      "[CV] n_neighbors=4, weights=distance, algorithm=ball_tree ............\n",
      "[CV]  n_neighbors=4, weights=distance, algorithm=ball_tree, score=0.303030 -   0.0s\n",
      "[CV] n_neighbors=4, weights=distance, algorithm=ball_tree ............\n",
      "[CV]  n_neighbors=4, weights=distance, algorithm=ball_tree, score=0.278351 -   0.0s\n",
      "[CV] n_neighbors=5, weights=uniform, algorithm=ball_tree .............\n",
      "[CV]  n_neighbors=5, weights=uniform, algorithm=ball_tree, score=0.278846 -   0.0s\n",
      "[CV] n_neighbors=5, weights=uniform, algorithm=ball_tree .............\n",
      "[CV]  n_neighbors=5, weights=uniform, algorithm=ball_tree, score=0.303030 -   0.0s\n",
      "[CV] n_neighbors=5, weights=uniform, algorithm=ball_tree .............\n",
      "[CV]  n_neighbors=5, weights=uniform, algorithm=ball_tree, score=0.237113 -   0.0s\n",
      "[CV] n_neighbors=5, weights=distance, algorithm=ball_tree ............\n",
      "[CV]  n_neighbors=5, weights=distance, algorithm=ball_tree, score=0.336538 -   0.0s\n",
      "[CV] n_neighbors=5, weights=distance, algorithm=ball_tree ............\n",
      "[CV]  n_neighbors=5, weights=distance, algorithm=ball_tree, score=0.303030 -   0.0s\n",
      "[CV] n_neighbors=5, weights=distance, algorithm=ball_tree ............\n",
      "[CV]  n_neighbors=5, weights=distance, algorithm=ball_tree, score=0.268041 -   0.0s\n",
      "[CV] n_neighbors=6, weights=uniform, algorithm=ball_tree .............\n",
      "[CV]  n_neighbors=6, weights=uniform, algorithm=ball_tree, score=0.298077 -   0.0s\n",
      "[CV] n_neighbors=6, weights=uniform, algorithm=ball_tree .............\n",
      "[CV]  n_neighbors=6, weights=uniform, algorithm=ball_tree, score=0.303030 -   0.0s\n",
      "[CV] n_neighbors=6, weights=uniform, algorithm=ball_tree .............\n",
      "[CV]  n_neighbors=6, weights=uniform, algorithm=ball_tree, score=0.237113 -   0.0s\n",
      "[CV] n_neighbors=6, weights=distance, algorithm=ball_tree ............\n",
      "[CV]  n_neighbors=6, weights=distance, algorithm=ball_tree, score=0.355769 -   0.0s\n",
      "[CV] n_neighbors=6, weights=distance, algorithm=ball_tree ............\n",
      "[CV]  n_neighbors=6, weights=distance, algorithm=ball_tree, score=0.292929 -   0.0s\n",
      "[CV] n_neighbors=6, weights=distance, algorithm=ball_tree ............\n",
      "[CV]  n_neighbors=6, weights=distance, algorithm=ball_tree, score=0.268041 -   0.0s\n",
      "[CV] n_neighbors=7, weights=uniform, algorithm=ball_tree .............\n",
      "[CV]  n_neighbors=7, weights=uniform, algorithm=ball_tree, score=0.317308 -   0.0s\n",
      "[CV] n_neighbors=7, weights=uniform, algorithm=ball_tree .............\n",
      "[CV]  n_neighbors=7, weights=uniform, algorithm=ball_tree, score=0.313131 -   0.0s\n",
      "[CV] n_neighbors=7, weights=uniform, algorithm=ball_tree .............\n",
      "[CV]  n_neighbors=7, weights=uniform, algorithm=ball_tree, score=0.257732 -   0.0s\n",
      "[CV] n_neighbors=7, weights=distance, algorithm=ball_tree ............\n",
      "[CV]  n_neighbors=7, weights=distance, algorithm=ball_tree, score=0.355769 -   0.0s\n",
      "[CV] n_neighbors=7, weights=distance, algorithm=ball_tree ............\n",
      "[CV]  n_neighbors=7, weights=distance, algorithm=ball_tree, score=0.282828 -   0.0s\n",
      "[CV] n_neighbors=7, weights=distance, algorithm=ball_tree ............\n",
      "[CV]  n_neighbors=7, weights=distance, algorithm=ball_tree, score=0.268041 -   0.0s\n",
      "[CV] n_neighbors=8, weights=uniform, algorithm=ball_tree .............\n",
      "[CV]  n_neighbors=8, weights=uniform, algorithm=ball_tree, score=0.307692 -   0.0s\n",
      "[CV] n_neighbors=8, weights=uniform, algorithm=ball_tree .............\n",
      "[CV]  n_neighbors=8, weights=uniform, algorithm=ball_tree, score=0.282828 -   0.0s\n",
      "[CV] n_neighbors=8, weights=uniform, algorithm=ball_tree .............\n",
      "[CV]  n_neighbors=8, weights=uniform, algorithm=ball_tree, score=0.226804 -   0.0s\n",
      "[CV] n_neighbors=8, weights=distance, algorithm=ball_tree ............\n",
      "[CV]  n_neighbors=8, weights=distance, algorithm=ball_tree, score=0.355769 -   0.0s\n",
      "[CV] n_neighbors=8, weights=distance, algorithm=ball_tree ............\n",
      "[CV]  n_neighbors=8, weights=distance, algorithm=ball_tree, score=0.282828 -   0.0s\n",
      "[CV] n_neighbors=8, weights=distance, algorithm=ball_tree ............\n",
      "[CV]  n_neighbors=8, weights=distance, algorithm=ball_tree, score=0.268041 -   0.0s\n",
      "[CV] n_neighbors=9, weights=uniform, algorithm=ball_tree .............\n",
      "[CV]  n_neighbors=9, weights=uniform, algorithm=ball_tree, score=0.259615 -   0.0s\n",
      "[CV] n_neighbors=9, weights=uniform, algorithm=ball_tree .............\n",
      "[CV]  n_neighbors=9, weights=uniform, algorithm=ball_tree, score=0.191919 -   0.0s\n",
      "[CV] n_neighbors=9, weights=uniform, algorithm=ball_tree .............\n",
      "[CV]  n_neighbors=9, weights=uniform, algorithm=ball_tree, score=0.226804 -   0.0s\n",
      "[CV] n_neighbors=9, weights=distance, algorithm=ball_tree ............\n",
      "[CV]  n_neighbors=9, weights=distance, algorithm=ball_tree, score=0.317308 -   0.0s\n",
      "[CV] n_neighbors=9, weights=distance, algorithm=ball_tree ............\n",
      "[CV]  n_neighbors=9, weights=distance, algorithm=ball_tree, score=0.181818 -   0.0s\n",
      "[CV] n_neighbors=9, weights=distance, algorithm=ball_tree ............\n",
      "[CV]  n_neighbors=9, weights=distance, algorithm=ball_tree, score=0.278351 -   0.0s\n",
      "[CV] n_neighbors=3, weights=uniform, algorithm=kd_tree ...............\n",
      "[CV]  n_neighbors=3, weights=uniform, algorithm=kd_tree, score=0.250000 -   0.0s\n",
      "[CV] n_neighbors=3, weights=uniform, algorithm=kd_tree ...............\n",
      "[CV]  n_neighbors=3, weights=uniform, algorithm=kd_tree, score=0.222222 -   0.0s\n",
      "[CV] n_neighbors=3, weights=uniform, algorithm=kd_tree ...............\n",
      "[CV]  n_neighbors=3, weights=uniform, algorithm=kd_tree, score=0.237113 -   0.0s\n",
      "[CV] n_neighbors=3, weights=distance, algorithm=kd_tree ..............\n",
      "[CV]  n_neighbors=3, weights=distance, algorithm=kd_tree, score=0.269231 -   0.0s\n",
      "[CV] n_neighbors=3, weights=distance, algorithm=kd_tree ..............\n",
      "[CV]  n_neighbors=3, weights=distance, algorithm=kd_tree, score=0.212121 -   0.0s\n",
      "[CV] n_neighbors=3, weights=distance, algorithm=kd_tree ..............\n",
      "[CV]  n_neighbors=3, weights=distance, algorithm=kd_tree, score=0.247423 -   0.0s\n",
      "[CV] n_neighbors=4, weights=uniform, algorithm=kd_tree ...............\n",
      "[CV]  n_neighbors=4, weights=uniform, algorithm=kd_tree, score=0.278846 -   0.0s\n",
      "[CV] n_neighbors=4, weights=uniform, algorithm=kd_tree ...............\n",
      "[CV]  n_neighbors=4, weights=uniform, algorithm=kd_tree, score=0.303030 -   0.0s\n",
      "[CV] n_neighbors=4, weights=uniform, algorithm=kd_tree ...............\n",
      "[CV]  n_neighbors=4, weights=uniform, algorithm=kd_tree, score=0.268041 -   0.0s\n",
      "[CV] n_neighbors=4, weights=distance, algorithm=kd_tree ..............\n",
      "[CV]  n_neighbors=4, weights=distance, algorithm=kd_tree, score=0.317308 -   0.0s\n",
      "[CV] n_neighbors=4, weights=distance, algorithm=kd_tree ..............\n",
      "[CV]  n_neighbors=4, weights=distance, algorithm=kd_tree, score=0.303030 -   0.0s\n",
      "[CV] n_neighbors=4, weights=distance, algorithm=kd_tree ..............\n",
      "[CV]  n_neighbors=4, weights=distance, algorithm=kd_tree, score=0.278351 -   0.0s\n",
      "[CV] n_neighbors=5, weights=uniform, algorithm=kd_tree ...............\n",
      "[CV]  n_neighbors=5, weights=uniform, algorithm=kd_tree, score=0.278846 -   0.0s\n",
      "[CV] n_neighbors=5, weights=uniform, algorithm=kd_tree ...............\n",
      "[CV]  n_neighbors=5, weights=uniform, algorithm=kd_tree, score=0.303030 -   0.0s\n",
      "[CV] n_neighbors=5, weights=uniform, algorithm=kd_tree ...............\n",
      "[CV]  n_neighbors=5, weights=uniform, algorithm=kd_tree, score=0.237113 -   0.0s\n",
      "[CV] n_neighbors=5, weights=distance, algorithm=kd_tree ..............\n",
      "[CV]  n_neighbors=5, weights=distance, algorithm=kd_tree, score=0.336538 -   0.0s\n",
      "[CV] n_neighbors=5, weights=distance, algorithm=kd_tree ..............\n",
      "[CV]  n_neighbors=5, weights=distance, algorithm=kd_tree, score=0.303030 -   0.0s\n",
      "[CV] n_neighbors=5, weights=distance, algorithm=kd_tree ..............\n",
      "[CV]  n_neighbors=5, weights=distance, algorithm=kd_tree, score=0.268041 -   0.0s\n",
      "[CV] n_neighbors=6, weights=uniform, algorithm=kd_tree ...............\n",
      "[CV]  n_neighbors=6, weights=uniform, algorithm=kd_tree, score=0.298077 -   0.0s\n",
      "[CV] n_neighbors=6, weights=uniform, algorithm=kd_tree ...............\n",
      "[CV]  n_neighbors=6, weights=uniform, algorithm=kd_tree, score=0.303030 -   0.0s\n",
      "[CV] n_neighbors=6, weights=uniform, algorithm=kd_tree ...............\n",
      "[CV]  n_neighbors=6, weights=uniform, algorithm=kd_tree, score=0.237113 -   0.0s\n",
      "[CV] n_neighbors=6, weights=distance, algorithm=kd_tree ..............\n",
      "[CV]  n_neighbors=6, weights=distance, algorithm=kd_tree, score=0.355769 -   0.0s\n",
      "[CV] n_neighbors=6, weights=distance, algorithm=kd_tree ..............\n",
      "[CV]  n_neighbors=6, weights=distance, algorithm=kd_tree, score=0.292929 -   0.0s\n",
      "[CV] n_neighbors=6, weights=distance, algorithm=kd_tree ..............\n",
      "[CV]  n_neighbors=6, weights=distance, algorithm=kd_tree, score=0.268041 -   0.0s\n",
      "[CV] n_neighbors=7, weights=uniform, algorithm=kd_tree ...............\n",
      "[CV]  n_neighbors=7, weights=uniform, algorithm=kd_tree, score=0.317308 -   0.0s\n",
      "[CV] n_neighbors=7, weights=uniform, algorithm=kd_tree ...............\n",
      "[CV]  n_neighbors=7, weights=uniform, algorithm=kd_tree, score=0.313131 -   0.0s\n",
      "[CV] n_neighbors=7, weights=uniform, algorithm=kd_tree ...............\n",
      "[CV]  n_neighbors=7, weights=uniform, algorithm=kd_tree, score=0.257732 -   0.0s\n",
      "[CV] n_neighbors=7, weights=distance, algorithm=kd_tree ..............\n",
      "[CV]  n_neighbors=7, weights=distance, algorithm=kd_tree, score=0.355769 -   0.0s\n",
      "[CV] n_neighbors=7, weights=distance, algorithm=kd_tree ..............\n",
      "[CV]  n_neighbors=7, weights=distance, algorithm=kd_tree, score=0.282828 -   0.0s\n",
      "[CV] n_neighbors=7, weights=distance, algorithm=kd_tree ..............\n",
      "[CV]  n_neighbors=7, weights=distance, algorithm=kd_tree, score=0.268041 -   0.0s\n",
      "[CV] n_neighbors=8, weights=uniform, algorithm=kd_tree ...............\n",
      "[CV]  n_neighbors=8, weights=uniform, algorithm=kd_tree, score=0.307692 -   0.0s\n",
      "[CV] n_neighbors=8, weights=uniform, algorithm=kd_tree ...............\n",
      "[CV]  n_neighbors=8, weights=uniform, algorithm=kd_tree, score=0.282828 -   0.0s\n",
      "[CV] n_neighbors=8, weights=uniform, algorithm=kd_tree ...............\n",
      "[CV]  n_neighbors=8, weights=uniform, algorithm=kd_tree, score=0.226804 -   0.0s\n",
      "[CV] n_neighbors=8, weights=distance, algorithm=kd_tree ..............\n",
      "[CV]  n_neighbors=8, weights=distance, algorithm=kd_tree, score=0.355769 -   0.0s\n",
      "[CV] n_neighbors=8, weights=distance, algorithm=kd_tree ..............\n",
      "[CV]  n_neighbors=8, weights=distance, algorithm=kd_tree, score=0.282828 -   0.0s\n",
      "[CV] n_neighbors=8, weights=distance, algorithm=kd_tree ..............\n",
      "[CV]  n_neighbors=8, weights=distance, algorithm=kd_tree, score=0.268041 -   0.0s\n",
      "[CV] n_neighbors=9, weights=uniform, algorithm=kd_tree ...............\n",
      "[CV]  n_neighbors=9, weights=uniform, algorithm=kd_tree, score=0.259615 -   0.0s\n",
      "[CV] n_neighbors=9, weights=uniform, algorithm=kd_tree ...............\n",
      "[CV]  n_neighbors=9, weights=uniform, algorithm=kd_tree, score=0.191919 -   0.0s\n",
      "[CV] n_neighbors=9, weights=uniform, algorithm=kd_tree ...............\n",
      "[CV]  n_neighbors=9, weights=uniform, algorithm=kd_tree, score=0.226804 -   0.0s\n",
      "[CV] n_neighbors=9, weights=distance, algorithm=kd_tree ..............\n",
      "[CV]  n_neighbors=9, weights=distance, algorithm=kd_tree, score=0.317308 -   0.0s\n",
      "[CV] n_neighbors=9, weights=distance, algorithm=kd_tree ..............\n",
      "[CV]  n_neighbors=9, weights=distance, algorithm=kd_tree, score=0.181818 -   0.0s\n",
      "[CV] n_neighbors=9, weights=distance, algorithm=kd_tree ..............\n",
      "[CV]  n_neighbors=9, weights=distance, algorithm=kd_tree, score=0.278351 -   0.0s\n",
      "[CV] n_neighbors=3, weights=uniform, algorithm=brute .................\n",
      "[CV]  n_neighbors=3, weights=uniform, algorithm=brute, score=0.250000 -   0.0s\n",
      "[CV] n_neighbors=3, weights=uniform, algorithm=brute .................\n",
      "[CV]  n_neighbors=3, weights=uniform, algorithm=brute, score=0.222222 -   0.0s\n",
      "[CV] n_neighbors=3, weights=uniform, algorithm=brute .................\n",
      "[CV]  n_neighbors=3, weights=uniform, algorithm=brute, score=0.237113 -   0.0s\n",
      "[CV] n_neighbors=3, weights=distance, algorithm=brute ................\n",
      "[CV]  n_neighbors=3, weights=distance, algorithm=brute, score=0.269231 -   0.0s\n",
      "[CV] n_neighbors=3, weights=distance, algorithm=brute ................\n",
      "[CV]  n_neighbors=3, weights=distance, algorithm=brute, score=0.212121 -   0.0s\n",
      "[CV] n_neighbors=3, weights=distance, algorithm=brute ................\n",
      "[CV]  n_neighbors=3, weights=distance, algorithm=brute, score=0.247423 -   0.0s\n",
      "[CV] n_neighbors=4, weights=uniform, algorithm=brute .................\n",
      "[CV]  n_neighbors=4, weights=uniform, algorithm=brute, score=0.278846 -   0.0s\n",
      "[CV] n_neighbors=4, weights=uniform, algorithm=brute .................\n",
      "[CV]  n_neighbors=4, weights=uniform, algorithm=brute, score=0.303030 -   0.0s\n",
      "[CV] n_neighbors=4, weights=uniform, algorithm=brute .................\n",
      "[CV]  n_neighbors=4, weights=uniform, algorithm=brute, score=0.268041 -   0.0s\n",
      "[CV] n_neighbors=4, weights=distance, algorithm=brute ................\n",
      "[CV]  n_neighbors=4, weights=distance, algorithm=brute, score=0.317308 -   0.0s\n",
      "[CV] n_neighbors=4, weights=distance, algorithm=brute ................\n",
      "[CV]  n_neighbors=4, weights=distance, algorithm=brute, score=0.303030 -   0.0s\n",
      "[CV] n_neighbors=4, weights=distance, algorithm=brute ................\n",
      "[CV]  n_neighbors=4, weights=distance, algorithm=brute, score=0.278351 -   0.0s\n",
      "[CV] n_neighbors=5, weights=uniform, algorithm=brute .................\n",
      "[CV]  n_neighbors=5, weights=uniform, algorithm=brute, score=0.278846 -   0.0s\n",
      "[CV] n_neighbors=5, weights=uniform, algorithm=brute .................\n",
      "[CV]  n_neighbors=5, weights=uniform, algorithm=brute, score=0.303030 -   0.0s\n",
      "[CV] n_neighbors=5, weights=uniform, algorithm=brute .................\n",
      "[CV]  n_neighbors=5, weights=uniform, algorithm=brute, score=0.237113 -   0.0s\n",
      "[CV] n_neighbors=5, weights=distance, algorithm=brute ................\n",
      "[CV]  n_neighbors=5, weights=distance, algorithm=brute, score=0.336538 -   0.0s\n",
      "[CV] n_neighbors=5, weights=distance, algorithm=brute ................\n",
      "[CV]  n_neighbors=5, weights=distance, algorithm=brute, score=0.303030 -   0.0s\n",
      "[CV] n_neighbors=5, weights=distance, algorithm=brute ................\n",
      "[CV]  n_neighbors=5, weights=distance, algorithm=brute, score=0.268041 -   0.0s\n",
      "[CV] n_neighbors=6, weights=uniform, algorithm=brute .................\n",
      "[CV]  n_neighbors=6, weights=uniform, algorithm=brute, score=0.298077 -   0.0s\n",
      "[CV] n_neighbors=6, weights=uniform, algorithm=brute .................\n",
      "[CV]  n_neighbors=6, weights=uniform, algorithm=brute, score=0.303030 -   0.0s\n",
      "[CV] n_neighbors=6, weights=uniform, algorithm=brute .................\n",
      "[CV]  n_neighbors=6, weights=uniform, algorithm=brute, score=0.237113 -   0.0s\n",
      "[CV] n_neighbors=6, weights=distance, algorithm=brute ................\n",
      "[CV]  n_neighbors=6, weights=distance, algorithm=brute, score=0.355769 -   0.0s\n",
      "[CV] n_neighbors=6, weights=distance, algorithm=brute ................\n",
      "[CV]  n_neighbors=6, weights=distance, algorithm=brute, score=0.292929 -   0.0s\n",
      "[CV] n_neighbors=6, weights=distance, algorithm=brute ................\n",
      "[CV]  n_neighbors=6, weights=distance, algorithm=brute, score=0.268041 -   0.0s\n",
      "[CV] n_neighbors=7, weights=uniform, algorithm=brute .................\n",
      "[CV]  n_neighbors=7, weights=uniform, algorithm=brute, score=0.317308 -   0.0s\n",
      "[CV] n_neighbors=7, weights=uniform, algorithm=brute .................\n",
      "[CV]  n_neighbors=7, weights=uniform, algorithm=brute, score=0.313131 -   0.0s\n",
      "[CV] n_neighbors=7, weights=uniform, algorithm=brute .................\n",
      "[CV]  n_neighbors=7, weights=uniform, algorithm=brute, score=0.257732 -   0.0s\n",
      "[CV] n_neighbors=7, weights=distance, algorithm=brute ................\n",
      "[CV]  n_neighbors=7, weights=distance, algorithm=brute, score=0.355769 -   0.0s\n",
      "[CV] n_neighbors=7, weights=distance, algorithm=brute ................\n",
      "[CV]  n_neighbors=7, weights=distance, algorithm=brute, score=0.282828 -   0.0s\n",
      "[CV] n_neighbors=7, weights=distance, algorithm=brute ................\n",
      "[CV]  n_neighbors=7, weights=distance, algorithm=brute, score=0.268041 -   0.0s\n",
      "[CV] n_neighbors=8, weights=uniform, algorithm=brute .................\n",
      "[CV]  n_neighbors=8, weights=uniform, algorithm=brute, score=0.307692 -   0.0s\n",
      "[CV] n_neighbors=8, weights=uniform, algorithm=brute .................\n",
      "[CV]  n_neighbors=8, weights=uniform, algorithm=brute, score=0.282828 -   0.0s\n",
      "[CV] n_neighbors=8, weights=uniform, algorithm=brute .................\n",
      "[CV]  n_neighbors=8, weights=uniform, algorithm=brute, score=0.226804 -   0.0s\n",
      "[CV] n_neighbors=8, weights=distance, algorithm=brute ................\n",
      "[CV]  n_neighbors=8, weights=distance, algorithm=brute, score=0.355769 -   0.0s\n",
      "[CV] n_neighbors=8, weights=distance, algorithm=brute ................\n",
      "[CV]  n_neighbors=8, weights=distance, algorithm=brute, score=0.282828 -   0.0s"
     ]
    },
    {
     "name": "stderr",
     "output_type": "stream",
     "text": [
      "[Parallel(n_jobs=1)]: Done 127 tasks       | elapsed:    1.0s\n",
      "[Parallel(n_jobs=1)]: Done 168 out of 168 | elapsed:    1.2s finished\n"
     ]
    },
    {
     "name": "stdout",
     "output_type": "stream",
     "text": [
      "\n",
      "[CV] n_neighbors=8, weights=distance, algorithm=brute ................\n",
      "[CV]  n_neighbors=8, weights=distance, algorithm=brute, score=0.268041 -   0.0s\n",
      "[CV] n_neighbors=9, weights=uniform, algorithm=brute .................\n",
      "[CV]  n_neighbors=9, weights=uniform, algorithm=brute, score=0.259615 -   0.0s\n",
      "[CV] n_neighbors=9, weights=uniform, algorithm=brute .................\n",
      "[CV]  n_neighbors=9, weights=uniform, algorithm=brute, score=0.191919 -   0.0s\n",
      "[CV] n_neighbors=9, weights=uniform, algorithm=brute .................\n",
      "[CV]  n_neighbors=9, weights=uniform, algorithm=brute, score=0.226804 -   0.0s\n",
      "[CV] n_neighbors=9, weights=distance, algorithm=brute ................\n",
      "[CV]  n_neighbors=9, weights=distance, algorithm=brute, score=0.317308 -   0.0s\n",
      "[CV] n_neighbors=9, weights=distance, algorithm=brute ................\n",
      "[CV]  n_neighbors=9, weights=distance, algorithm=brute, score=0.181818 -   0.0s\n",
      "[CV] n_neighbors=9, weights=distance, algorithm=brute ................\n",
      "[CV]  n_neighbors=9, weights=distance, algorithm=brute, score=0.278351 -   0.0s\n"
     ]
    },
    {
     "data": {
      "text/plain": [
       "GridSearchCV(cv=None, error_score='raise',\n",
       "       estimator=KNeighborsClassifier(algorithm='auto', leaf_size=30, metric='minkowski',\n",
       "           metric_params=None, n_jobs=1, n_neighbors=5, p=2,\n",
       "           weights='uniform'),\n",
       "       fit_params={}, iid=True, n_jobs=1,\n",
       "       param_grid={'n_neighbors': array([3, 4, 5, 6, 7, 8, 9]), 'weights': ('uniform', 'distance'), 'algorithm': ('auto', 'ball_tree', 'kd_tree', 'brute')},\n",
       "       pre_dispatch='2*n_jobs', refit=True, scoring=None, verbose=3)"
      ]
     },
     "execution_count": 6,
     "metadata": {},
     "output_type": "execute_result"
    }
   ],
   "source": [
    "from sklearn.grid_search import GridSearchCV\n",
    "from sklearn.neighbors import KNeighborsClassifier\n",
    "import numpy as np\n",
    "\n",
    "param_grid = {'n_neighbors': np.arange(3, 10),'weights':('uniform', 'distance'), 'algorithm':('auto','ball_tree', 'kd_tree', 'brute') }\n",
    "np.set_printoptions(suppress=True)\n",
    "grid_search = GridSearchCV(KNeighborsClassifier(), param_grid, verbose=3)\n",
    "\n",
    "grid_search.fit(X_train_tfidf, y_train_bofCounts)"
   ]
  },
  {
   "cell_type": "markdown",
   "metadata": {},
   "source": [
    "# Predict test data"
   ]
  },
  {
   "cell_type": "code",
   "execution_count": 10,
   "metadata": {
    "collapsed": false
   },
   "outputs": [
    {
     "name": "stdout",
     "output_type": "stream",
     "text": [
      "getbof X.shape (100, 12, 130)\n",
      "0.06\n",
      "{'n_neighbors': 6, 'weights': 'distance', 'algorithm': 'auto'}\n",
      "(56,)\n",
      "(7, 8)\n",
      "[ 0.23666667  0.24333333  0.28333333  0.3         0.27333333  0.30333333\n",
      "  0.28        0.30666667]\n"
     ]
    },
    {
     "data": {
      "text/plain": [
       "<matplotlib.colorbar.Colorbar instance at 0x110076680>"
      ]
     },
     "execution_count": 10,
     "metadata": {},
     "output_type": "execute_result"
    },
    {
     "data": {
      "image/png": "[encoded data removed]",
      "text/plain": [
       "<matplotlib.figure.Figure at 0x1103e0990>"
      ]
     },
     "metadata": {},
     "output_type": "display_data"
    }
   ],
   "source": [
    "X_test_bofCounts, y_test_bofCounts = lv.getbof(X_test, y_test, centroids)\n",
    "X_test_tfidf = tfidf_transformer.fit_transform(X_test_bofCounts)\n",
    "\n",
    "predict = grid_search.predict(X_test_bofCounts)\n",
    "print grid_search.score(X_test_bofCounts, y_test_bofCounts)\n",
    "print grid_search.best_params_\n",
    "\n",
    "# We extract just the scores\n",
    "scores = [x.mean_validation_score for x in grid_search.grid_scores_]\n",
    "print np.array(scores).shape\n",
    "scores = np.array(scores).reshape(7, 8)\n",
    "print scores.shape\n",
    "print scores[0]\n",
    "plt.matshow(scores)\n",
    "plt.colorbar()\n",
    "# plt.xticks(np.arange(5), param_grid['gamma'])\n",
    "# plt.yticks(np.arange(6), param_grid['C']);"
   ]
  },
  {
   "cell_type": "code",
   "execution_count": null,
   "metadata": {
    "collapsed": true
   },
   "outputs": [],
   "source": []
  }
 ],
 "metadata": {
  "kernelspec": {
   "display_name": "Python 2",
   "language": "python",
   "name": "python2"
  },
  "language_info": {
   "codemirror_mode": {
    "name": "ipython",
    "version": 2
   },
   "file_extension": ".py",
   "mimetype": "text/x-python",
   "name": "python",
   "nbconvert_exporter": "python",
   "pygments_lexer": "ipython2",
   "version": "2.7.10"
  }
 },
 "nbformat": 4,
 "nbformat_minor": 0
}
